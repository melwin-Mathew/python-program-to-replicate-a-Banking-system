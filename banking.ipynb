{
 "cells": [
  {
   "cell_type": "code",
   "execution_count": 2,
   "id": "dfa28012-3aba-4ff7-b35f-fd50f0212c6e",
   "metadata": {},
   "outputs": [
    {
     "name": "stdout",
     "output_type": "stream",
     "text": [
      "\n",
      "Welcome to the Banking System\n",
      "1. Login\n",
      "2. Exit\n"
     ]
    },
    {
     "name": "stdin",
     "output_type": "stream",
     "text": [
      "Enter your choice:  1\n",
      "Enter your account number:  12345\n",
      "Enter your PIN:  1111\n"
     ]
    },
    {
     "name": "stdout",
     "output_type": "stream",
     "text": [
      "Login successful!\n",
      "\n",
      "Menu:\n",
      "1. Deposit\n",
      "2. Withdraw\n",
      "3. Check Balance\n",
      "4. Logout\n"
     ]
    },
    {
     "name": "stdin",
     "output_type": "stream",
     "text": [
      "Enter your choice:  1\n",
      "Enter amount to deposit:  150000\n"
     ]
    },
    {
     "name": "stdout",
     "output_type": "stream",
     "text": [
      "Deposit successful. Your new balance is: $151000.00\n",
      "\n",
      "Menu:\n",
      "1. Deposit\n",
      "2. Withdraw\n",
      "3. Check Balance\n",
      "4. Logout\n"
     ]
    },
    {
     "name": "stdin",
     "output_type": "stream",
     "text": [
      "Enter your choice:  2\n",
      "Enter amount to withdraw:  50000\n"
     ]
    },
    {
     "name": "stdout",
     "output_type": "stream",
     "text": [
      "Withdrawal successful. Your new balance is: $101000.00\n",
      "\n",
      "Menu:\n",
      "1. Deposit\n",
      "2. Withdraw\n",
      "3. Check Balance\n",
      "4. Logout\n"
     ]
    },
    {
     "name": "stdin",
     "output_type": "stream",
     "text": [
      "Enter your choice:  3\n"
     ]
    },
    {
     "name": "stdout",
     "output_type": "stream",
     "text": [
      "Your current balance is: $101000.00\n",
      "\n",
      "Menu:\n",
      "1. Deposit\n",
      "2. Withdraw\n",
      "3. Check Balance\n",
      "4. Logout\n"
     ]
    },
    {
     "name": "stdin",
     "output_type": "stream",
     "text": [
      "Enter your choice:  4\n"
     ]
    },
    {
     "name": "stdout",
     "output_type": "stream",
     "text": [
      "Logging out...\n",
      "\n",
      "Welcome to the Banking System\n",
      "1. Login\n",
      "2. Exit\n"
     ]
    },
    {
     "name": "stdin",
     "output_type": "stream",
     "text": [
      "Enter your choice:  \n"
     ]
    },
    {
     "name": "stdout",
     "output_type": "stream",
     "text": [
      "Invalid choice. Please try again.\n",
      "\n",
      "Welcome to the Banking System\n",
      "1. Login\n",
      "2. Exit\n"
     ]
    },
    {
     "name": "stdin",
     "output_type": "stream",
     "text": [
      "Enter your choice:  1\n",
      "Enter your account number:  1234\n",
      "Enter your PIN:  1111\n"
     ]
    },
    {
     "name": "stdout",
     "output_type": "stream",
     "text": [
      "Invalid account number or PIN. Please try again.\n"
     ]
    },
    {
     "name": "stdin",
     "output_type": "stream",
     "text": [
      "Enter your account number:  12345\n",
      "Enter your PIN:  1111\n"
     ]
    },
    {
     "name": "stdout",
     "output_type": "stream",
     "text": [
      "Login successful!\n",
      "\n",
      "Menu:\n",
      "1. Deposit\n",
      "2. Withdraw\n",
      "3. Check Balance\n",
      "4. Logout\n"
     ]
    },
    {
     "name": "stdin",
     "output_type": "stream",
     "text": [
      "Enter your choice:  4\n"
     ]
    },
    {
     "name": "stdout",
     "output_type": "stream",
     "text": [
      "Logging out...\n",
      "\n",
      "Welcome to the Banking System\n",
      "1. Login\n",
      "2. Exit\n"
     ]
    },
    {
     "name": "stdin",
     "output_type": "stream",
     "text": [
      "Enter your choice:  2\n"
     ]
    },
    {
     "name": "stdout",
     "output_type": "stream",
     "text": [
      "Thank you for using the Banking System!\n"
     ]
    }
   ],
   "source": [
    "def login(accounts):\n",
    "    \"\"\"Handles user login.\"\"\"\n",
    "    while True:\n",
    "        account_number = input(\"Enter your account number: \")\n",
    "        pin = input(\"Enter your PIN: \")\n",
    "        if account_number in accounts and accounts[account_number][\"pin\"] == pin:\n",
    "            print(\"Login successful!\")\n",
    "            return account_number\n",
    "        else:\n",
    "            print(\"Invalid account number or PIN. Please try again.\")\n",
    "\n",
    "def deposit(account, accounts):\n",
    "    \"\"\"Handles depositing money into the account.\"\"\"\n",
    "    amount = float(input(\"Enter amount to deposit: \"))\n",
    "    if amount > 0:\n",
    "        accounts[account][\"balance\"] += amount\n",
    "        print(f\"Deposit successful. Your new balance is: ${accounts[account]['balance']:.2f}\")\n",
    "    else:\n",
    "        print(\"Invalid deposit amount. Please enter a positive value.\")\n",
    "\n",
    "def withdraw(account, accounts):\n",
    "    \"\"\"Handles withdrawing money from the account.\"\"\"\n",
    "    amount = float(input(\"Enter amount to withdraw: \"))\n",
    "    if 0 < amount <= accounts[account][\"balance\"]:\n",
    "        accounts[account][\"balance\"] -= amount\n",
    "        print(f\"Withdrawal successful. Your new balance is: ${accounts[account]['balance']:.2f}\")\n",
    "    else:\n",
    "        print(\"Insufficient funds or invalid withdrawal amount.\")\n",
    "\n",
    "def check_balance(account, accounts):\n",
    "    \"\"\"Displays the account balance.\"\"\"\n",
    "    print(f\"Your current balance is: ${accounts[account]['balance']:.2f}\")\n",
    "\n",
    "def main():\n",
    "    \"\"\"Main function to run the banking system.\"\"\"\n",
    "    accounts = {\n",
    "        \"12345\": {\"pin\": \"1111\", \"balance\": 1000.00},  # Example account\n",
    "        \"67890\": {\"pin\": \"2222\", \"balance\": 500.00}   # Another example account\n",
    "    }\n",
    "\n",
    "    while True:\n",
    "        print(\"\\nWelcome to the Banking System\")\n",
    "        print(\"1. Login\")\n",
    "        print(\"2. Exit\")\n",
    "\n",
    "        choice = input(\"Enter your choice: \")\n",
    "\n",
    "        if choice == \"1\":\n",
    "            account_number = login(accounts)\n",
    "            if account_number:\n",
    "                while True:\n",
    "                    print(\"\\nMenu:\")\n",
    "                    print(\"1. Deposit\")\n",
    "                    print(\"2. Withdraw\")\n",
    "                    print(\"3. Check Balance\")\n",
    "                    print(\"4. Logout\")\n",
    "\n",
    "                    option = input(\"Enter your choice: \")\n",
    "\n",
    "                    if option == \"1\":\n",
    "                        deposit(account_number, accounts)\n",
    "                    elif option == \"2\":\n",
    "                        withdraw(account_number, accounts)\n",
    "                    elif option == \"3\":\n",
    "                        check_balance(account_number, accounts)\n",
    "                    elif option == \"4\":\n",
    "                        print(\"Logging out...\")\n",
    "                        break\n",
    "                    else:\n",
    "                        print(\"Invalid choice. Please try again.\")\n",
    "        elif choice == \"2\":\n",
    "            print(\"Thank you for using the Banking System!\")\n",
    "            break\n",
    "        else:\n",
    "            print(\"Invalid choice. Please try again.\")\n",
    "\n",
    "if __name__ == \"__main__\":\n",
    "    main()"
   ]
  },
  {
   "cell_type": "code",
   "execution_count": null,
   "id": "c1313094-8843-4252-a3e9-236026fbedcf",
   "metadata": {},
   "outputs": [],
   "source": []
  }
 ],
 "metadata": {
  "kernelspec": {
   "display_name": "Python 3 (ipykernel)",
   "language": "python",
   "name": "python3"
  },
  "language_info": {
   "codemirror_mode": {
    "name": "ipython",
    "version": 3
   },
   "file_extension": ".py",
   "mimetype": "text/x-python",
   "name": "python",
   "nbconvert_exporter": "python",
   "pygments_lexer": "ipython3",
   "version": "3.12.4"
  }
 },
 "nbformat": 4,
 "nbformat_minor": 5
}
